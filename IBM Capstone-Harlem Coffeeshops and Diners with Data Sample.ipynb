{
 "cells": [
  {
   "cell_type": "markdown",
   "metadata": {},
   "source": [
    "# IBM Capstone Project-Harlem NY Coffeeshops/Diners"
   ]
  },
  {
   "cell_type": "markdown",
   "metadata": {},
   "source": [
    "## Introduction\n",
    "\n",
    "Harlem is a vibrant neighborhood in New York City that spans from 110th Street to 155th Street, comprised of historic neighborhoods like Morningside Heights and Sugar Hill, known for its trendy bars, restaurants and clubs. "
   ]
  },
  {
   "cell_type": "markdown",
   "metadata": {},
   "source": [
    "## Business Question & Problem\n",
    "\n",
    "Within Harlem, if a restaurantuer/entrepreneur is interested in opening a diner, the question would be: which part (ie. East, West or Central Harlem) would they open it?  The problem that they must address is that in order to draw in customers and be profitable, it must be located near accessible public transportation and be in a location with enough interested customers nearby.\n",
    "The target audience is entrepreneurs who are interested in opening a new diner or coffeeshop in Harlem. They should care because the location will have a strong effect on both their potential profits and the longevity of their business."
   ]
  },
  {
   "attachments": {},
   "cell_type": "markdown",
   "metadata": {},
   "source": [
    "## Data\n",
    "\n",
    "The data that will be used are geolocation information of existing Harlem coffeeshop and diners in Harlem New York available on the Foursquare website. It will include restaurant names and the specific location of the eatery.  This will help us learn which section of Harlem has a large concentration of existing restaurants and determine the best location for a person looking to open a new diner in Harlem. Below is a sample of the data from Foursquare:\n",
    "\n",
    "\n",
    "\n",
    "ID: 537f7140498e15919e85ff84\n",
    "Manhattanville Coffee\n",
    "Coffee Shop\n",
    "101 W 127th St\n",
    "10030\n",
    "40.821496\n",
    "-73.944595\n",
    "\n",
    "ID: 541c683e498ef421d4e16eb3\n",
    "The Edge Harlem\n",
    "American\n",
    "101 W 127th St\n",
    "10030\n",
    "40.819692\n",
    "-73.946073\n",
    "\n"
   ]
  },
  {
   "cell_type": "code",
   "execution_count": null,
   "metadata": {},
   "outputs": [],
   "source": []
  }
 ],
 "metadata": {
  "kernelspec": {
   "display_name": "Python 3",
   "language": "python",
   "name": "python3"
  },
  "language_info": {
   "codemirror_mode": {
    "name": "ipython",
    "version": 3
   },
   "file_extension": ".py",
   "mimetype": "text/x-python",
   "name": "python",
   "nbconvert_exporter": "python",
   "pygments_lexer": "ipython3",
   "version": "3.7.6"
  }
 },
 "nbformat": 4,
 "nbformat_minor": 4
}
