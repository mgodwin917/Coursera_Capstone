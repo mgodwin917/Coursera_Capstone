{
 "cells": [
  {
   "cell_type": "markdown",
   "metadata": {},
   "source": [
    "# Capstone Project-Coffeeshops/Diners in Harlem NYC\n"
   ]
  },
  {
   "cell_type": "code",
   "execution_count": 12,
   "metadata": {
    "scrolled": true
   },
   "outputs": [
    {
     "name": "stdout",
     "output_type": "stream",
     "text": [
      "Collecting folium\n",
      "  Downloading folium-0.11.0-py2.py3-none-any.whl (93 kB)\n",
      "Collecting branca>=0.3.0\n",
      "  Downloading branca-0.4.1-py3-none-any.whl (24 kB)\n",
      "Requirement already satisfied: jinja2>=2.9 in c:\\users\\mary\\anaconda3\\lib\\site-packages (from folium) (2.11.1)\n",
      "Requirement already satisfied: requests in c:\\users\\mary\\anaconda3\\lib\\site-packages (from folium) (2.22.0)\n",
      "Requirement already satisfied: numpy in c:\\users\\mary\\anaconda3\\lib\\site-packages (from folium) (1.18.1)\n",
      "Requirement already satisfied: MarkupSafe>=0.23 in c:\\users\\mary\\anaconda3\\lib\\site-packages (from jinja2>=2.9->folium) (1.1.1)\n",
      "Requirement already satisfied: chardet<3.1.0,>=3.0.2 in c:\\users\\mary\\anaconda3\\lib\\site-packages (from requests->folium) (3.0.4)\n",
      "Requirement already satisfied: urllib3!=1.25.0,!=1.25.1,<1.26,>=1.21.1 in c:\\users\\mary\\anaconda3\\lib\\site-packages (from requests->folium) (1.25.8)\n",
      "Requirement already satisfied: certifi>=2017.4.17 in c:\\users\\mary\\anaconda3\\lib\\site-packages (from requests->folium) (2019.11.28)\n",
      "Requirement already satisfied: idna<2.9,>=2.5 in c:\\users\\mary\\anaconda3\\lib\\site-packages (from requests->folium) (2.8)\n",
      "Installing collected packages: branca, folium\n",
      "Successfully installed branca-0.4.1 folium-0.11.0\n"
     ]
    }
   ],
   "source": [
    "!pip install folium\n",
    "import pandas as pd\n",
    "import folium\n"
   ]
  },
  {
   "cell_type": "code",
   "execution_count": 13,
   "metadata": {},
   "outputs": [],
   "source": [
    "import requests"
   ]
  },
  {
   "cell_type": "code",
   "execution_count": 222,
   "metadata": {},
   "outputs": [],
   "source": [
    "request_parameters = {\n",
    "    \"client_id\":'CLIENT_ID',\n",
    "    \"client_secret\":'CLIENT_SECRET',\n",
    "    \"v\": '20190111',\n",
    "    \"section\": \"coffee\",\n",
    "    \"near\": \"Harlem,NY\",\n",
    "    \"limit\": 50}"
   ]
  },
  {
   "cell_type": "code",
   "execution_count": 223,
   "metadata": {},
   "outputs": [],
   "source": [
    "data=requests.get(\"https://api.foursquare.com/v2/venues/explore\", params=request_parameters)"
   ]
  },
  {
   "cell_type": "code",
   "execution_count": 224,
   "metadata": {},
   "outputs": [
    {
     "data": {
      "text/plain": [
       "dict_keys(['suggestedFilters', 'geocode', 'headerLocation', 'headerFullLocation', 'headerLocationGranularity', 'query', 'totalResults', 'suggestedBounds', 'groups'])"
      ]
     },
     "execution_count": 224,
     "metadata": {},
     "output_type": "execute_result"
    }
   ],
   "source": [
    "d = data.json()[\"response\"]\n",
    "d.keys()"
   ]
  },
  {
   "cell_type": "code",
   "execution_count": 225,
   "metadata": {},
   "outputs": [
    {
     "data": {
      "text/plain": [
       "('city', 'Harlem', 'Harlem')"
      ]
     },
     "execution_count": 225,
     "metadata": {},
     "output_type": "execute_result"
    }
   ],
   "source": [
    "d[\"headerLocationGranularity\"], d[\"headerLocation\"], d[\"headerFullLocation\"]"
   ]
  },
  {
   "cell_type": "code",
   "execution_count": 226,
   "metadata": {},
   "outputs": [
    {
     "data": {
      "text/plain": [
       "({'ne': {'lat': 40.83037859085295, 'lng': -73.92819198456822},\n",
       "  'sw': {'lat': 40.791114741664096, 'lng': -73.96735953829558}},\n",
       " 95)"
      ]
     },
     "execution_count": 226,
     "metadata": {},
     "output_type": "execute_result"
    }
   ],
   "source": [
    "d[\"suggestedBounds\"], d[\"totalResults\"]"
   ]
  },
  {
   "cell_type": "code",
   "execution_count": 227,
   "metadata": {},
   "outputs": [
    {
     "data": {
      "text/plain": [
       "{'what': '',\n",
       " 'where': 'harlem ny',\n",
       " 'center': {'lat': 40.80788, 'lng': -73.94542},\n",
       " 'displayString': 'Harlem, NY, United States',\n",
       " 'cc': 'US',\n",
       " 'geometry': {'bounds': {'ne': {'lat': 40.8308258057, 'lng': -73.9284744263},\n",
       "   'sw': {'lat': 40.7925949097, 'lng': -73.9655838013}}},\n",
       " 'longId': '72057594043047970'}"
      ]
     },
     "execution_count": 227,
     "metadata": {},
     "output_type": "execute_result"
    }
   ],
   "source": [
    "d[\"geocode\"]"
   ]
  },
  {
   "cell_type": "code",
   "execution_count": 228,
   "metadata": {},
   "outputs": [
    {
     "data": {
      "text/plain": [
       "dict_keys(['type', 'name', 'items'])"
      ]
     },
     "execution_count": 228,
     "metadata": {},
     "output_type": "execute_result"
    }
   ],
   "source": [
    "d[\"groups\"][0].keys()"
   ]
  },
  {
   "cell_type": "code",
   "execution_count": 229,
   "metadata": {},
   "outputs": [
    {
     "name": "stdout",
     "output_type": "stream",
     "text": [
      "number of items: 50\n"
     ]
    },
    {
     "data": {
      "text/plain": [
       "{'reasons': {'count': 0,\n",
       "  'items': [{'summary': 'This spot is popular',\n",
       "    'type': 'general',\n",
       "    'reasonName': 'globalInteractionReason'}]},\n",
       " 'venue': {'id': '537f7140498e15919e85ff84',\n",
       "  'name': 'Manhattanville Coffee',\n",
       "  'location': {'address': '142 Edgecombe Ave',\n",
       "   'crossStreet': 'at W 142nd St',\n",
       "   'lat': 40.8214960193694,\n",
       "   'lng': -73.94459457496639,\n",
       "   'labeledLatLngs': [{'label': 'display',\n",
       "     'lat': 40.8214960193694,\n",
       "     'lng': -73.94459457496639},\n",
       "    {'label': 'entrance', 'lat': 40.821315, 'lng': -73.944578}],\n",
       "   'postalCode': '10030',\n",
       "   'cc': 'US',\n",
       "   'city': 'New York',\n",
       "   'state': 'NY',\n",
       "   'country': 'United States',\n",
       "   'formattedAddress': ['142 Edgecombe Ave (at W 142nd St)',\n",
       "    'New York, NY 10030',\n",
       "    'United States']},\n",
       "  'categories': [{'id': '4bf58dd8d48988d1e0931735',\n",
       "    'name': 'Coffee Shop',\n",
       "    'pluralName': 'Coffee Shops',\n",
       "    'shortName': 'Coffee Shop',\n",
       "    'icon': {'prefix': 'https://ss3.4sqi.net/img/categories_v2/food/coffeeshop_',\n",
       "     'suffix': '.png'},\n",
       "    'primary': True}],\n",
       "  'photos': {'count': 0, 'groups': []}},\n",
       " 'referralId': 'e-5-537f7140498e15919e85ff84-0'}"
      ]
     },
     "execution_count": 229,
     "metadata": {},
     "output_type": "execute_result"
    }
   ],
   "source": [
    "items = d[\"groups\"][0][\"items\"]\n",
    "print(\"number of items: %i\" % len(items))\n",
    "items[0]"
   ]
  },
  {
   "cell_type": "code",
   "execution_count": 233,
   "metadata": {
    "scrolled": true
   },
   "outputs": [
    {
     "name": "stdout",
     "output_type": "stream",
     "text": [
      "found 48 restaurants\n"
     ]
    },
    {
     "data": {
      "text/html": [
       "<div>\n",
       "<style scoped>\n",
       "    .dataframe tbody tr th:only-of-type {\n",
       "        vertical-align: middle;\n",
       "    }\n",
       "\n",
       "    .dataframe tbody tr th {\n",
       "        vertical-align: top;\n",
       "    }\n",
       "\n",
       "    .dataframe thead th {\n",
       "        text-align: right;\n",
       "    }\n",
       "</style>\n",
       "<table border=\"1\" class=\"dataframe\">\n",
       "  <thead>\n",
       "    <tr style=\"text-align: right;\">\n",
       "      <th></th>\n",
       "      <th>Restaurant_ID</th>\n",
       "      <th>Restaurant_Name</th>\n",
       "      <th>Short_Name</th>\n",
       "      <th>Address</th>\n",
       "      <th>Postal_Code</th>\n",
       "      <th>Latitude</th>\n",
       "      <th>Longitude</th>\n",
       "    </tr>\n",
       "  </thead>\n",
       "  <tbody>\n",
       "    <tr>\n",
       "      <th>0</th>\n",
       "      <td>537f7140498e15919e85ff84</td>\n",
       "      <td>Manhattanville Coffee</td>\n",
       "      <td>Coffee Shop</td>\n",
       "      <td>101 W 127th St</td>\n",
       "      <td>10030</td>\n",
       "      <td>40.821496</td>\n",
       "      <td>-73.944595</td>\n",
       "    </tr>\n",
       "    <tr>\n",
       "      <th>1</th>\n",
       "      <td>541c683e498ef421d4e16eb3</td>\n",
       "      <td>The Edge Harlem</td>\n",
       "      <td>American</td>\n",
       "      <td>101 W 127th St</td>\n",
       "      <td>10030</td>\n",
       "      <td>40.819692</td>\n",
       "      <td>-73.946073</td>\n",
       "    </tr>\n",
       "    <tr>\n",
       "      <th>2</th>\n",
       "      <td>52e3eef9498e1affb602399b</td>\n",
       "      <td>Double Dutch Espresso</td>\n",
       "      <td>Coffee Shop</td>\n",
       "      <td>101 W 127th St</td>\n",
       "      <td>10026</td>\n",
       "      <td>40.805893</td>\n",
       "      <td>-73.954222</td>\n",
       "    </tr>\n",
       "    <tr>\n",
       "      <th>3</th>\n",
       "      <td>4af2e1aaf964a520f2e821e3</td>\n",
       "      <td>The Love Cafe</td>\n",
       "      <td>Café</td>\n",
       "      <td>101 W 127th St</td>\n",
       "      <td>10029</td>\n",
       "      <td>40.794550</td>\n",
       "      <td>-73.933798</td>\n",
       "    </tr>\n",
       "    <tr>\n",
       "      <th>4</th>\n",
       "      <td>4eb0d7bc4fc6015c82ea1c3e</td>\n",
       "      <td>Lenox Coffee</td>\n",
       "      <td>Coffee Shop</td>\n",
       "      <td>101 W 127th St</td>\n",
       "      <td>10027</td>\n",
       "      <td>40.810161</td>\n",
       "      <td>-73.943247</td>\n",
       "    </tr>\n",
       "  </tbody>\n",
       "</table>\n",
       "</div>"
      ],
      "text/plain": [
       "              Restaurant_ID        Restaurant_Name   Short_Name  \\\n",
       "0  537f7140498e15919e85ff84  Manhattanville Coffee  Coffee Shop   \n",
       "1  541c683e498ef421d4e16eb3        The Edge Harlem     American   \n",
       "2  52e3eef9498e1affb602399b  Double Dutch Espresso  Coffee Shop   \n",
       "3  4af2e1aaf964a520f2e821e3          The Love Cafe         Café   \n",
       "4  4eb0d7bc4fc6015c82ea1c3e           Lenox Coffee  Coffee Shop   \n",
       "\n",
       "          Address Postal_Code   Latitude  Longitude  \n",
       "0  101 W 127th St       10030  40.821496 -73.944595  \n",
       "1  101 W 127th St       10030  40.819692 -73.946073  \n",
       "2  101 W 127th St       10026  40.805893 -73.954222  \n",
       "3  101 W 127th St       10029  40.794550 -73.933798  \n",
       "4  101 W 127th St       10027  40.810161 -73.943247  "
      ]
     },
     "execution_count": 233,
     "metadata": {},
     "output_type": "execute_result"
    }
   ],
   "source": [
    "df_raw = []\n",
    "for item in items:\n",
    "    venue = item[\"venue\"]\n",
    "    categories, uid, name, location = venue[\"categories\"], venue[\"id\"], venue[\"name\"], venue[\"location\"]\n",
    "    assert len(categories) == 1\n",
    "    shortname = categories[0][\"shortName\"]\n",
    "    if not \"postalCode\" in location:\n",
    "        continue\n",
    "    postalcode = location[\"postalCode\"]\n",
    "    lat = location[\"lat\"]\n",
    "    lng = location[\"lng\"]\n",
    "    datarow = (uid, name, shortname, address, postalcode, lat, lng)\n",
    "    df_raw.append(datarow)\n",
    "df = pd.DataFrame(df_raw, columns=[\"Restaurant_ID\", \"Restaurant_Name\", \"Short_Name\", \"Address\", \"Postal_Code\", \"Latitude\", \"Longitude\"])\n",
    "print(\"found %i restaurants\" % len(df))\n",
    "df.head()"
   ]
  },
  {
   "cell_type": "code",
   "execution_count": null,
   "metadata": {},
   "outputs": [],
   "source": []
  }
 ],
 "metadata": {
  "kernelspec": {
   "display_name": "Python 3",
   "language": "python",
   "name": "python3"
  },
  "language_info": {
   "codemirror_mode": {
    "name": "ipython",
    "version": 3
   },
   "file_extension": ".py",
   "mimetype": "text/x-python",
   "name": "python",
   "nbconvert_exporter": "python",
   "pygments_lexer": "ipython3",
   "version": "3.7.6"
  }
 },
 "nbformat": 4,
 "nbformat_minor": 4
}
