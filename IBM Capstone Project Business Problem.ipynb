{
 "cells": [
  {
   "cell_type": "markdown",
   "metadata": {},
   "source": [
    "# IBM Capstone Project-Harlem, NY Coffeeshops/Diners"
   ]
  },
  {
   "cell_type": "markdown",
   "metadata": {},
   "source": [
    "## Introduction\n"
   ]
  },
  {
   "cell_type": "markdown",
   "metadata": {},
   "source": [
    "Harlem is a vibrant neighborhood in New York City that spans from 110th Street to 155th Street, comprised of historic neighborhoods like Morningside Heights and Sugar Hill, known for its trendy bars, restaurants and clubs.  "
   ]
  },
  {
   "cell_type": "markdown",
   "metadata": {},
   "source": [
    "## Business Question & Problem\n",
    "\n",
    "Within Harlem, if a restaurantuer/entrepreneur is interested in opening a diner, the question would be: which part (ie. East, West or Central Harlem) would they open it?  The problem that they must address is that in order to draw in customers and be profitable, it must be located near accessible public transportation and be in a location with enough interested customers nearby.\n",
    "The target audience is entrepreneurs who are interested in opening a new diner or coffeeshop in Harlem. They should care because the location will have a strong effect on both their potential profits and the longevity of their business."
   ]
  }
 ],
 "metadata": {
  "kernelspec": {
   "display_name": "Python 3",
   "language": "python",
   "name": "python3"
  },
  "language_info": {
   "codemirror_mode": {
    "name": "ipython",
    "version": 3
   },
   "file_extension": ".py",
   "mimetype": "text/x-python",
   "name": "python",
   "nbconvert_exporter": "python",
   "pygments_lexer": "ipython3",
   "version": "3.7.6"
  }
 },
 "nbformat": 4,
 "nbformat_minor": 4
}
